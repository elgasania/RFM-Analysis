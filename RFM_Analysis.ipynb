{
  "nbformat": 4,
  "nbformat_minor": 0,
  "metadata": {
    "colab": {
      "name": "RFM Analysis.ipynb",
      "provenance": [],
      "collapsed_sections": [],
      "toc_visible": true
    },
    "kernelspec": {
      "name": "python3",
      "display_name": "Python 3"
    }
  },
  "cells": [
    {
      "cell_type": "markdown",
      "metadata": {
        "id": "pO52l-6BD8UM"
      },
      "source": [
        "###**RFM Analysis**"
      ]
    },
    {
      "cell_type": "markdown",
      "metadata": {
        "id": "9dAISr7PHer_"
      },
      "source": [
        "RFM (Recency, Frequency, Monetary) Analysis merupakan metode analisis yang membagi customer berdasarkan riwayat transaksi mereka.\r\n",
        "Dengan metode RFM data customer dititikberatkan pada 3 atribut yaitu Recency, Frequency dan Monetary.\r\n",
        "\r\n",
        "- Recency adalah waktu terakhir transaksi.\r\n",
        "- Frequency mewakili jumlah transaksi yang terjadi dalam periode waktu tertentu.\r\n",
        "- Monetary adalah total nilai transaksi pada periode waktu tertentu.\r\n",
        "\r\n",
        "Tujuannya adalah untuk mengetahui kelompok pelanggan mana yang sangat menguntungkan, memperkirakan tingkat pengembalian dan meningkatkan laba. \r\n",
        "\r\n",
        "Berikut adalah contoh dari analisis RFM.\r\n",
        "\r\n",
        "\r\n"
      ]
    },
    {
      "cell_type": "markdown",
      "metadata": {
        "id": "M5a6iOATEWNm"
      },
      "source": [
        "####Data Preparation"
      ]
    },
    {
      "cell_type": "code",
      "metadata": {
        "id": "eEV2aMc2LCGy"
      },
      "source": [
        "# Import Library\r\n",
        "import pandas as pd\r\n",
        "import numpy as np\r\n",
        "import matplotlib.pyplot as plt\r\n",
        "import datetime as dt"
      ],
      "execution_count": null,
      "outputs": []
    },
    {
      "cell_type": "code",
      "metadata": {
        "colab": {
          "base_uri": "https://localhost:8080/",
          "height": 204
        },
        "id": "1ayroa32LwbF",
        "outputId": "60ef91ea-73d6-40a4-fbd7-d4015593d1b7"
      },
      "source": [
        "# Read data / csv\r\n",
        "df = pd.read_csv('Retail_Data_Transactions.csv')\r\n",
        "df.head()"
      ],
      "execution_count": null,
      "outputs": [
        {
          "output_type": "execute_result",
          "data": {
            "text/html": [
              "<div>\n",
              "<style scoped>\n",
              "    .dataframe tbody tr th:only-of-type {\n",
              "        vertical-align: middle;\n",
              "    }\n",
              "\n",
              "    .dataframe tbody tr th {\n",
              "        vertical-align: top;\n",
              "    }\n",
              "\n",
              "    .dataframe thead th {\n",
              "        text-align: right;\n",
              "    }\n",
              "</style>\n",
              "<table border=\"1\" class=\"dataframe\">\n",
              "  <thead>\n",
              "    <tr style=\"text-align: right;\">\n",
              "      <th></th>\n",
              "      <th>customer_id</th>\n",
              "      <th>trans_date</th>\n",
              "      <th>tran_amount</th>\n",
              "    </tr>\n",
              "  </thead>\n",
              "  <tbody>\n",
              "    <tr>\n",
              "      <th>0</th>\n",
              "      <td>CS5295</td>\n",
              "      <td>11-Feb-13</td>\n",
              "      <td>35</td>\n",
              "    </tr>\n",
              "    <tr>\n",
              "      <th>1</th>\n",
              "      <td>CS4768</td>\n",
              "      <td>15-Mar-15</td>\n",
              "      <td>39</td>\n",
              "    </tr>\n",
              "    <tr>\n",
              "      <th>2</th>\n",
              "      <td>CS2122</td>\n",
              "      <td>26-Feb-13</td>\n",
              "      <td>52</td>\n",
              "    </tr>\n",
              "    <tr>\n",
              "      <th>3</th>\n",
              "      <td>CS1217</td>\n",
              "      <td>16-Nov-11</td>\n",
              "      <td>99</td>\n",
              "    </tr>\n",
              "    <tr>\n",
              "      <th>4</th>\n",
              "      <td>CS1850</td>\n",
              "      <td>20-Nov-13</td>\n",
              "      <td>78</td>\n",
              "    </tr>\n",
              "  </tbody>\n",
              "</table>\n",
              "</div>"
            ],
            "text/plain": [
              "  customer_id trans_date  tran_amount\n",
              "0      CS5295  11-Feb-13           35\n",
              "1      CS4768  15-Mar-15           39\n",
              "2      CS2122  26-Feb-13           52\n",
              "3      CS1217  16-Nov-11           99\n",
              "4      CS1850  20-Nov-13           78"
            ]
          },
          "metadata": {
            "tags": []
          },
          "execution_count": 3
        }
      ]
    },
    {
      "cell_type": "code",
      "metadata": {
        "colab": {
          "base_uri": "https://localhost:8080/"
        },
        "id": "_7pQ7DByMNb6",
        "outputId": "f297988b-55b5-4421-e0e1-b18ec1301c7a"
      },
      "source": [
        "# Cek missing value\r\n",
        "df.isnull().sum()"
      ],
      "execution_count": null,
      "outputs": [
        {
          "output_type": "execute_result",
          "data": {
            "text/plain": [
              "customer_id    0\n",
              "trans_date     0\n",
              "tran_amount    0\n",
              "dtype: int64"
            ]
          },
          "metadata": {
            "tags": []
          },
          "execution_count": 5
        }
      ]
    },
    {
      "cell_type": "code",
      "metadata": {
        "colab": {
          "base_uri": "https://localhost:8080/"
        },
        "id": "DAhEBlHlOwVa",
        "outputId": "45e57c52-9f3f-4c94-9060-ba2c4cea0b8c"
      },
      "source": [
        "# Cek tipe data\r\n",
        "df.info()"
      ],
      "execution_count": null,
      "outputs": [
        {
          "output_type": "stream",
          "text": [
            "<class 'pandas.core.frame.DataFrame'>\n",
            "RangeIndex: 125000 entries, 0 to 124999\n",
            "Data columns (total 3 columns):\n",
            " #   Column       Non-Null Count   Dtype \n",
            "---  ------       --------------   ----- \n",
            " 0   customer_id  125000 non-null  object\n",
            " 1   trans_date   125000 non-null  object\n",
            " 2   tran_amount  125000 non-null  int64 \n",
            "dtypes: int64(1), object(2)\n",
            "memory usage: 2.9+ MB\n"
          ],
          "name": "stdout"
        }
      ]
    },
    {
      "cell_type": "code",
      "metadata": {
        "id": "KNq181H3R3BL"
      },
      "source": [
        "# Merubah tipe data kolom trans_date menjadi datetime\r\n",
        "df['trans_date']=pd.to_datetime(df['trans_date'])"
      ],
      "execution_count": null,
      "outputs": []
    },
    {
      "cell_type": "code",
      "metadata": {
        "colab": {
          "base_uri": "https://localhost:8080/"
        },
        "id": "9N5P9cd5caog",
        "outputId": "e335e485-357c-4f12-ff99-e497eaf8100e"
      },
      "source": [
        "# mengidentifikasi tanggal transaksi paling awal dan terbaru.\r\n",
        "print(df['trans_date'].min(), df['trans_date'].max())"
      ],
      "execution_count": null,
      "outputs": [
        {
          "output_type": "stream",
          "text": [
            "2011-05-16 00:00:00 2015-03-16 00:00:00\n"
          ],
          "name": "stdout"
        }
      ]
    },
    {
      "cell_type": "code",
      "metadata": {
        "colab": {
          "base_uri": "https://localhost:8080/",
          "height": 204
        },
        "id": "DYOu1oededpR",
        "outputId": "2dfc752d-03a5-4a77-fa6c-6e6395ad6804"
      },
      "source": [
        "# Menetapkan 2015-04-01 sebagai waktu pengambilan data.\r\n",
        "import datetime as dt\r\n",
        "NOW = dt.datetime(2015,4,1)\r\n",
        "\r\n",
        "# Menghitung jarak waktu transaksi dengan waktu pengambilan data (Recency).\r\n",
        "df['hist']=NOW - df['trans_date']\r\n",
        "df['hist'].astype('timedelta64[D]')\r\n",
        "df['hist']=df['hist'] / np.timedelta64(1, 'D')\r\n",
        "df.head()"
      ],
      "execution_count": null,
      "outputs": [
        {
          "output_type": "execute_result",
          "data": {
            "text/html": [
              "<div>\n",
              "<style scoped>\n",
              "    .dataframe tbody tr th:only-of-type {\n",
              "        vertical-align: middle;\n",
              "    }\n",
              "\n",
              "    .dataframe tbody tr th {\n",
              "        vertical-align: top;\n",
              "    }\n",
              "\n",
              "    .dataframe thead th {\n",
              "        text-align: right;\n",
              "    }\n",
              "</style>\n",
              "<table border=\"1\" class=\"dataframe\">\n",
              "  <thead>\n",
              "    <tr style=\"text-align: right;\">\n",
              "      <th></th>\n",
              "      <th>customer_id</th>\n",
              "      <th>trans_date</th>\n",
              "      <th>tran_amount</th>\n",
              "      <th>hist</th>\n",
              "    </tr>\n",
              "  </thead>\n",
              "  <tbody>\n",
              "    <tr>\n",
              "      <th>0</th>\n",
              "      <td>CS5295</td>\n",
              "      <td>2013-02-11</td>\n",
              "      <td>35</td>\n",
              "      <td>779.0</td>\n",
              "    </tr>\n",
              "    <tr>\n",
              "      <th>1</th>\n",
              "      <td>CS4768</td>\n",
              "      <td>2015-03-15</td>\n",
              "      <td>39</td>\n",
              "      <td>17.0</td>\n",
              "    </tr>\n",
              "    <tr>\n",
              "      <th>2</th>\n",
              "      <td>CS2122</td>\n",
              "      <td>2013-02-26</td>\n",
              "      <td>52</td>\n",
              "      <td>764.0</td>\n",
              "    </tr>\n",
              "    <tr>\n",
              "      <th>3</th>\n",
              "      <td>CS1217</td>\n",
              "      <td>2011-11-16</td>\n",
              "      <td>99</td>\n",
              "      <td>1232.0</td>\n",
              "    </tr>\n",
              "    <tr>\n",
              "      <th>4</th>\n",
              "      <td>CS1850</td>\n",
              "      <td>2013-11-20</td>\n",
              "      <td>78</td>\n",
              "      <td>497.0</td>\n",
              "    </tr>\n",
              "  </tbody>\n",
              "</table>\n",
              "</div>"
            ],
            "text/plain": [
              "  customer_id trans_date  tran_amount    hist\n",
              "0      CS5295 2013-02-11           35   779.0\n",
              "1      CS4768 2015-03-15           39    17.0\n",
              "2      CS2122 2013-02-26           52   764.0\n",
              "3      CS1217 2011-11-16           99  1232.0\n",
              "4      CS1850 2013-11-20           78   497.0"
            ]
          },
          "metadata": {
            "tags": []
          },
          "execution_count": 9
        }
      ]
    },
    {
      "cell_type": "markdown",
      "metadata": {
        "id": "A6B4aA7s5qUO"
      },
      "source": [
        "#### Table RFM"
      ]
    },
    {
      "cell_type": "code",
      "metadata": {
        "colab": {
          "base_uri": "https://localhost:8080/",
          "height": 235
        },
        "id": "GOnZ6ka9fisR",
        "outputId": "359c0e02-db37-4c72-bc5e-21938c66877b"
      },
      "source": [
        "# Membuat tabel RFM \r\n",
        "rfmTable = df.groupby('customer_id').agg({'hist': lambda x:x.min(),             # Recency\r\n",
        "                                        'customer_id': lambda x: len(x),        # Frequency\r\n",
        "                                        'tran_amount': lambda x: x.sum()})      # Monetary Value\r\n",
        "\r\n",
        "rfmTable.rename(columns={'hist': 'recency', \r\n",
        "                         'customer_id': 'frequency', \r\n",
        "                         'tran_amount': 'monetary_value'}, inplace=True)\r\n",
        "\r\n",
        "rfmTable.head()"
      ],
      "execution_count": null,
      "outputs": [
        {
          "output_type": "execute_result",
          "data": {
            "text/html": [
              "<div>\n",
              "<style scoped>\n",
              "    .dataframe tbody tr th:only-of-type {\n",
              "        vertical-align: middle;\n",
              "    }\n",
              "\n",
              "    .dataframe tbody tr th {\n",
              "        vertical-align: top;\n",
              "    }\n",
              "\n",
              "    .dataframe thead th {\n",
              "        text-align: right;\n",
              "    }\n",
              "</style>\n",
              "<table border=\"1\" class=\"dataframe\">\n",
              "  <thead>\n",
              "    <tr style=\"text-align: right;\">\n",
              "      <th></th>\n",
              "      <th>recency</th>\n",
              "      <th>frequency</th>\n",
              "      <th>monetary_value</th>\n",
              "    </tr>\n",
              "    <tr>\n",
              "      <th>customer_id</th>\n",
              "      <th></th>\n",
              "      <th></th>\n",
              "      <th></th>\n",
              "    </tr>\n",
              "  </thead>\n",
              "  <tbody>\n",
              "    <tr>\n",
              "      <th>CS1112</th>\n",
              "      <td>77.0</td>\n",
              "      <td>15</td>\n",
              "      <td>1012</td>\n",
              "    </tr>\n",
              "    <tr>\n",
              "      <th>CS1113</th>\n",
              "      <td>51.0</td>\n",
              "      <td>20</td>\n",
              "      <td>1490</td>\n",
              "    </tr>\n",
              "    <tr>\n",
              "      <th>CS1114</th>\n",
              "      <td>48.0</td>\n",
              "      <td>19</td>\n",
              "      <td>1432</td>\n",
              "    </tr>\n",
              "    <tr>\n",
              "      <th>CS1115</th>\n",
              "      <td>27.0</td>\n",
              "      <td>22</td>\n",
              "      <td>1659</td>\n",
              "    </tr>\n",
              "    <tr>\n",
              "      <th>CS1116</th>\n",
              "      <td>219.0</td>\n",
              "      <td>13</td>\n",
              "      <td>857</td>\n",
              "    </tr>\n",
              "  </tbody>\n",
              "</table>\n",
              "</div>"
            ],
            "text/plain": [
              "             recency  frequency  monetary_value\n",
              "customer_id                                    \n",
              "CS1112          77.0         15            1012\n",
              "CS1113          51.0         20            1490\n",
              "CS1114          48.0         19            1432\n",
              "CS1115          27.0         22            1659\n",
              "CS1116         219.0         13             857"
            ]
          },
          "metadata": {
            "tags": []
          },
          "execution_count": 10
        }
      ]
    },
    {
      "cell_type": "markdown",
      "metadata": {
        "id": "5aYK0JE36733"
      },
      "source": [
        "Table RFM dibuat dengan meringkas data (Aggregat data) berdasarkan jarak waktu transaksi dengan waktu pengambilan data (Recency), jumlah / banyaknya transaksi (Frequency) dan total nilai transaksi (Monetary)."
      ]
    },
    {
      "cell_type": "markdown",
      "metadata": {
        "id": "LxTSzwW78Cat"
      },
      "source": [
        "#### Analisis RFM"
      ]
    },
    {
      "cell_type": "code",
      "metadata": {
        "colab": {
          "base_uri": "https://localhost:8080/"
        },
        "id": "09ZK7KqvgqUk",
        "outputId": "b71122d8-fc22-45c6-a94e-2f5e32e3c921"
      },
      "source": [
        "# Mencari kuartil data\r\n",
        "quartiles = rfmTable.quantile(q=[0.25,0.50,0.75])\r\n",
        "print(quartiles, type(quartiles))"
      ],
      "execution_count": null,
      "outputs": [
        {
          "output_type": "stream",
          "text": [
            "      recency  frequency  monetary_value\n",
            "0.25     38.0       14.0           781.0\n",
            "0.50     69.0       18.0          1227.0\n",
            "0.75    127.0       22.0          1520.0 <class 'pandas.core.frame.DataFrame'>\n"
          ],
          "name": "stdout"
        }
      ]
    },
    {
      "cell_type": "markdown",
      "metadata": {
        "id": "ufq3R-kl8Z-h"
      },
      "source": [
        "Analisis RFM mengelompokkan R, F, M dalam 3 kategori atau lebih berdasarkan kuartil dimana kuartil secara kasar membagi 4 segmen dengan proporsi yang sama."
      ]
    },
    {
      "cell_type": "markdown",
      "metadata": {
        "id": "uCUK310gHirV"
      },
      "source": [
        "#### Tabel Segmentasi RFM"
      ]
    },
    {
      "cell_type": "code",
      "metadata": {
        "id": "4gugnOy7ihWt"
      },
      "source": [
        "# Definisi Kategori Segmentasi\r\n",
        "\r\n",
        "## for Recency \r\n",
        "def RClass(x,p,d):\r\n",
        "    if x <= d[p][0.25]:\r\n",
        "        return 1\r\n",
        "    elif x <= d[p][0.50]:\r\n",
        "        return 2\r\n",
        "    elif x <= d[p][0.75]: \r\n",
        "        return 3\r\n",
        "    else:\r\n",
        "        return 4\r\n",
        "    \r\n",
        "## for Frequency and Monetary value \r\n",
        "def FMClass(x,p,d):\r\n",
        "    if x <= d[p][0.25]:\r\n",
        "        return 4\r\n",
        "    elif x <= d[p][0.50]:\r\n",
        "        return 3\r\n",
        "    elif x <= d[p][0.75]: \r\n",
        "        return 2\r\n",
        "    else:\r\n",
        "        return 1        "
      ],
      "execution_count": null,
      "outputs": []
    },
    {
      "cell_type": "markdown",
      "metadata": {
        "id": "kiHY_h9HTyYM"
      },
      "source": [
        "Terdapat dua kelas  segmentasi RFM , Untuk nilai Recency lebih rendah lebih baik, sedangkan untuk nilai frequency dan nilai monetary lebih tinggi lebih baik. Karenanya skema kategorisasi dibalik."
      ]
    },
    {
      "cell_type": "code",
      "metadata": {
        "colab": {
          "base_uri": "https://localhost:8080/",
          "height": 235
        },
        "id": "fMjEFB_UrbmY",
        "outputId": "246ef3f7-d4f0-42b0-d470-ca0e305a1a7e"
      },
      "source": [
        "# Membuat Tabel Segmentasi RFM\r\n",
        "rfmSeg = rfmTable\r\n",
        "rfmSeg['R_Quartile'] = rfmSeg['recency'].apply(RClass, args=('recency',quartiles,))\r\n",
        "rfmSeg['F_Quartile'] = rfmSeg['frequency'].apply(FMClass, args=('frequency',quartiles,))\r\n",
        "rfmSeg['M_Quartile'] = rfmSeg['monetary_value'].apply(FMClass, args=('monetary_value',quartiles,))\r\n",
        "\r\n",
        "rfmSeg['RFMClass'] = rfmSeg.R_Quartile.map(str) \\\r\n",
        "                            + rfmSeg.F_Quartile.map(str) \\\r\n",
        "                            + rfmSeg.M_Quartile.map(str)\r\n",
        "\r\n",
        "rfmSeg.head()"
      ],
      "execution_count": null,
      "outputs": [
        {
          "output_type": "execute_result",
          "data": {
            "text/html": [
              "<div>\n",
              "<style scoped>\n",
              "    .dataframe tbody tr th:only-of-type {\n",
              "        vertical-align: middle;\n",
              "    }\n",
              "\n",
              "    .dataframe tbody tr th {\n",
              "        vertical-align: top;\n",
              "    }\n",
              "\n",
              "    .dataframe thead th {\n",
              "        text-align: right;\n",
              "    }\n",
              "</style>\n",
              "<table border=\"1\" class=\"dataframe\">\n",
              "  <thead>\n",
              "    <tr style=\"text-align: right;\">\n",
              "      <th></th>\n",
              "      <th>recency</th>\n",
              "      <th>frequency</th>\n",
              "      <th>monetary_value</th>\n",
              "      <th>R_Quartile</th>\n",
              "      <th>F_Quartile</th>\n",
              "      <th>M_Quartile</th>\n",
              "      <th>RFMClass</th>\n",
              "    </tr>\n",
              "    <tr>\n",
              "      <th>customer_id</th>\n",
              "      <th></th>\n",
              "      <th></th>\n",
              "      <th></th>\n",
              "      <th></th>\n",
              "      <th></th>\n",
              "      <th></th>\n",
              "      <th></th>\n",
              "    </tr>\n",
              "  </thead>\n",
              "  <tbody>\n",
              "    <tr>\n",
              "      <th>CS1112</th>\n",
              "      <td>77.0</td>\n",
              "      <td>15</td>\n",
              "      <td>1012</td>\n",
              "      <td>3</td>\n",
              "      <td>3</td>\n",
              "      <td>3</td>\n",
              "      <td>333</td>\n",
              "    </tr>\n",
              "    <tr>\n",
              "      <th>CS1113</th>\n",
              "      <td>51.0</td>\n",
              "      <td>20</td>\n",
              "      <td>1490</td>\n",
              "      <td>2</td>\n",
              "      <td>2</td>\n",
              "      <td>2</td>\n",
              "      <td>222</td>\n",
              "    </tr>\n",
              "    <tr>\n",
              "      <th>CS1114</th>\n",
              "      <td>48.0</td>\n",
              "      <td>19</td>\n",
              "      <td>1432</td>\n",
              "      <td>2</td>\n",
              "      <td>2</td>\n",
              "      <td>2</td>\n",
              "      <td>222</td>\n",
              "    </tr>\n",
              "    <tr>\n",
              "      <th>CS1115</th>\n",
              "      <td>27.0</td>\n",
              "      <td>22</td>\n",
              "      <td>1659</td>\n",
              "      <td>1</td>\n",
              "      <td>2</td>\n",
              "      <td>1</td>\n",
              "      <td>121</td>\n",
              "    </tr>\n",
              "    <tr>\n",
              "      <th>CS1116</th>\n",
              "      <td>219.0</td>\n",
              "      <td>13</td>\n",
              "      <td>857</td>\n",
              "      <td>4</td>\n",
              "      <td>4</td>\n",
              "      <td>3</td>\n",
              "      <td>443</td>\n",
              "    </tr>\n",
              "  </tbody>\n",
              "</table>\n",
              "</div>"
            ],
            "text/plain": [
              "             recency  frequency  ...  M_Quartile  RFMClass\n",
              "customer_id                      ...                      \n",
              "CS1112          77.0         15  ...           3       333\n",
              "CS1113          51.0         20  ...           2       222\n",
              "CS1114          48.0         19  ...           2       222\n",
              "CS1115          27.0         22  ...           1       121\n",
              "CS1116         219.0         13  ...           3       443\n",
              "\n",
              "[5 rows x 7 columns]"
            ]
          },
          "metadata": {
            "tags": []
          },
          "execution_count": 13
        }
      ]
    },
    {
      "cell_type": "code",
      "metadata": {
        "colab": {
          "base_uri": "https://localhost:8080/"
        },
        "id": "fflfitGJr1_8",
        "outputId": "89a664bb-4ce4-44c4-df29-466aece91f70"
      },
      "source": [
        "# Identifikasi Segmen Customer\r\n",
        "print(\"Best Customers: \",len(rfmSeg[rfmSeg['RFMClass']=='111']))\r\n",
        "print('Loyal Customers: ',len(rfmSeg[rfmSeg['F_Quartile']==1]))\r\n",
        "print(\"Big Spenders: \",len(rfmSeg[rfmSeg['M_Quartile']==1]))\r\n",
        "print('Almost Lost: ', len(rfmSeg[rfmSeg['RFMClass']=='311']))\r\n",
        "print('Lost Customers: ',len(rfmSeg[rfmSeg['RFMClass']=='411']))\r\n",
        "print('Lost Cheap Customers: ',len(rfmSeg[rfmSeg['RFMClass']=='444']))"
      ],
      "execution_count": null,
      "outputs": [
        {
          "output_type": "stream",
          "text": [
            "Best Customers:  438\n",
            "Loyal Customers:  1401\n",
            "Big Spenders:  1721\n",
            "Almost Lost:  325\n",
            "Lost Customers:  163\n",
            "Lost Cheap Customers:  550\n"
          ],
          "name": "stdout"
        }
      ]
    }
  ]
}